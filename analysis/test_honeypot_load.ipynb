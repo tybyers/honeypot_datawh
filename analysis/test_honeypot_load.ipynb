{
 "cells": [
  {
   "cell_type": "markdown",
   "metadata": {},
   "source": [
    "# Test Honeypot Parse\n",
    "\n",
    "Wrote a function to load Honeypot json to pandas. This way we can save to CSV and then load to S3."
   ]
  },
  {
   "cell_type": "code",
   "execution_count": 1,
   "metadata": {},
   "outputs": [],
   "source": [
    "%load_ext autoreload\n",
    "%autoreload 2\n",
    "import sys, os\n",
    "scriptpath = '..'\n",
    "sys.path.append(os.path.abspath(scriptpath))"
   ]
  },
  {
   "cell_type": "code",
   "execution_count": 2,
   "metadata": {},
   "outputs": [],
   "source": [
    "import parse_honeypot"
   ]
  },
  {
   "cell_type": "code",
   "execution_count": 5,
   "metadata": {},
   "outputs": [],
   "source": [
    "hp_df = parse_honeypot.honeypot_to_df(filename='../data/honeypot.json')"
   ]
  },
  {
   "cell_type": "code",
   "execution_count": 6,
   "metadata": {},
   "outputs": [],
   "source": [
    "# ^ the above is quite slow!  And I might have forgotten to do something important, namely, converting the time columns to a proper datetime. "
   ]
  },
  {
   "cell_type": "code",
   "execution_count": 7,
   "metadata": {},
   "outputs": [
    {
     "data": {
      "text/plain": [
       "(994142, 21)"
      ]
     },
     "execution_count": 7,
     "metadata": {},
     "output_type": "execute_result"
    }
   ],
   "source": [
    "hp_df.shape"
   ]
  },
  {
   "cell_type": "code",
   "execution_count": 8,
   "metadata": {},
   "outputs": [
    {
     "data": {
      "text/html": [
       "<div>\n",
       "<style scoped>\n",
       "    .dataframe tbody tr th:only-of-type {\n",
       "        vertical-align: middle;\n",
       "    }\n",
       "\n",
       "    .dataframe tbody tr th {\n",
       "        vertical-align: top;\n",
       "    }\n",
       "\n",
       "    .dataframe thead th {\n",
       "        text-align: right;\n",
       "    }\n",
       "</style>\n",
       "<table border=\"1\" class=\"dataframe\">\n",
       "  <thead>\n",
       "    <tr style=\"text-align: right;\">\n",
       "      <th></th>\n",
       "      <th>id</th>\n",
       "      <th>ident</th>\n",
       "      <th>normalized</th>\n",
       "      <th>timestamp</th>\n",
       "      <th>channel</th>\n",
       "      <th>pattern</th>\n",
       "      <th>filename</th>\n",
       "      <th>request_raw</th>\n",
       "      <th>request_url</th>\n",
       "      <th>attackerIP</th>\n",
       "      <th>...</th>\n",
       "      <th>victimPort</th>\n",
       "      <th>victimIP</th>\n",
       "      <th>connectionType</th>\n",
       "      <th>connectionProtocol</th>\n",
       "      <th>priority</th>\n",
       "      <th>header</th>\n",
       "      <th>signature</th>\n",
       "      <th>sensor</th>\n",
       "      <th>connectionTransport</th>\n",
       "      <th>remoteHostname</th>\n",
       "    </tr>\n",
       "  </thead>\n",
       "  <tbody>\n",
       "    <tr>\n",
       "      <td>0</td>\n",
       "      <td>5426456e9f8c6d41306aea57</td>\n",
       "      <td>a16f5f36-3c41-11e4-9ee4-0a0b6e7c3e9e</td>\n",
       "      <td>True</td>\n",
       "      <td>2014-09-27T05:04:46.363+0000</td>\n",
       "      <td>glastopf.events</td>\n",
       "      <td>style_css</td>\n",
       "      <td>None</td>\n",
       "      <td>GET /style.css HTTP/1.1\\r\\nAccept: text/css,*/...</td>\n",
       "      <td>/style.css</td>\n",
       "      <td>162.197.24.67</td>\n",
       "      <td>...</td>\n",
       "      <td>80.0</td>\n",
       "      <td>0</td>\n",
       "      <td>NaN</td>\n",
       "      <td>NaN</td>\n",
       "      <td>NaN</td>\n",
       "      <td>NaN</td>\n",
       "      <td>NaN</td>\n",
       "      <td>NaN</td>\n",
       "      <td>NaN</td>\n",
       "      <td>NaN</td>\n",
       "    </tr>\n",
       "    <tr>\n",
       "      <td>1</td>\n",
       "      <td>542645799f8c6d41306aea59</td>\n",
       "      <td>a16f5f36-3c41-11e4-9ee4-0a0b6e7c3e9e</td>\n",
       "      <td>True</td>\n",
       "      <td>2014-09-27T05:04:57.901+0000</td>\n",
       "      <td>glastopf.events</td>\n",
       "      <td>unknown</td>\n",
       "      <td>None</td>\n",
       "      <td>POST /index HTTP/1.1\\r\\nAccept: text/html,appl...</td>\n",
       "      <td>/index</td>\n",
       "      <td>162.197.24.67</td>\n",
       "      <td>...</td>\n",
       "      <td>80.0</td>\n",
       "      <td>0</td>\n",
       "      <td>NaN</td>\n",
       "      <td>NaN</td>\n",
       "      <td>NaN</td>\n",
       "      <td>NaN</td>\n",
       "      <td>NaN</td>\n",
       "      <td>NaN</td>\n",
       "      <td>NaN</td>\n",
       "      <td>NaN</td>\n",
       "    </tr>\n",
       "    <tr>\n",
       "      <td>2</td>\n",
       "      <td>5426457a9f8c6d41306aea5a</td>\n",
       "      <td>a16f5f36-3c41-11e4-9ee4-0a0b6e7c3e9e</td>\n",
       "      <td>True</td>\n",
       "      <td>2014-09-27T05:04:58.066+0000</td>\n",
       "      <td>glastopf.events</td>\n",
       "      <td>style_css</td>\n",
       "      <td>None</td>\n",
       "      <td>GET /style.css HTTP/1.1\\r\\nAccept: text/css,*/...</td>\n",
       "      <td>/style.css</td>\n",
       "      <td>162.197.24.67</td>\n",
       "      <td>...</td>\n",
       "      <td>80.0</td>\n",
       "      <td>0</td>\n",
       "      <td>NaN</td>\n",
       "      <td>NaN</td>\n",
       "      <td>NaN</td>\n",
       "      <td>NaN</td>\n",
       "      <td>NaN</td>\n",
       "      <td>NaN</td>\n",
       "      <td>NaN</td>\n",
       "      <td>NaN</td>\n",
       "    </tr>\n",
       "    <tr>\n",
       "      <td>3</td>\n",
       "      <td>5426457a9f8c6d41306aea5d</td>\n",
       "      <td>a16f5f36-3c41-11e4-9ee4-0a0b6e7c3e9e</td>\n",
       "      <td>True</td>\n",
       "      <td>2014-09-27T05:04:58.248+0000</td>\n",
       "      <td>glastopf.events</td>\n",
       "      <td>unknown</td>\n",
       "      <td>None</td>\n",
       "      <td>GET /favicon.ico HTTP/1.1\\r\\nAccept: */*\\r\\nAc...</td>\n",
       "      <td>/favicon.ico</td>\n",
       "      <td>162.197.24.67</td>\n",
       "      <td>...</td>\n",
       "      <td>80.0</td>\n",
       "      <td>0</td>\n",
       "      <td>NaN</td>\n",
       "      <td>NaN</td>\n",
       "      <td>NaN</td>\n",
       "      <td>NaN</td>\n",
       "      <td>NaN</td>\n",
       "      <td>NaN</td>\n",
       "      <td>NaN</td>\n",
       "      <td>NaN</td>\n",
       "    </tr>\n",
       "    <tr>\n",
       "      <td>4</td>\n",
       "      <td>5426462d9f8c6d41306aea5f</td>\n",
       "      <td>a16f5f36-3c41-11e4-9ee4-0a0b6e7c3e9e</td>\n",
       "      <td>True</td>\n",
       "      <td>2014-09-27T05:07:57.267+0000</td>\n",
       "      <td>glastopf.events</td>\n",
       "      <td>unknown</td>\n",
       "      <td>None</td>\n",
       "      <td>GET /index HTTP/1.1\\r\\nAccept: text/html,appli...</td>\n",
       "      <td>/index</td>\n",
       "      <td>173.174.71.56</td>\n",
       "      <td>...</td>\n",
       "      <td>80.0</td>\n",
       "      <td>0</td>\n",
       "      <td>NaN</td>\n",
       "      <td>NaN</td>\n",
       "      <td>NaN</td>\n",
       "      <td>NaN</td>\n",
       "      <td>NaN</td>\n",
       "      <td>NaN</td>\n",
       "      <td>NaN</td>\n",
       "      <td>NaN</td>\n",
       "    </tr>\n",
       "  </tbody>\n",
       "</table>\n",
       "<p>5 rows × 21 columns</p>\n",
       "</div>"
      ],
      "text/plain": [
       "                         id                                 ident  normalized  \\\n",
       "0  5426456e9f8c6d41306aea57  a16f5f36-3c41-11e4-9ee4-0a0b6e7c3e9e        True   \n",
       "1  542645799f8c6d41306aea59  a16f5f36-3c41-11e4-9ee4-0a0b6e7c3e9e        True   \n",
       "2  5426457a9f8c6d41306aea5a  a16f5f36-3c41-11e4-9ee4-0a0b6e7c3e9e        True   \n",
       "3  5426457a9f8c6d41306aea5d  a16f5f36-3c41-11e4-9ee4-0a0b6e7c3e9e        True   \n",
       "4  5426462d9f8c6d41306aea5f  a16f5f36-3c41-11e4-9ee4-0a0b6e7c3e9e        True   \n",
       "\n",
       "                      timestamp          channel    pattern filename  \\\n",
       "0  2014-09-27T05:04:46.363+0000  glastopf.events  style_css     None   \n",
       "1  2014-09-27T05:04:57.901+0000  glastopf.events    unknown     None   \n",
       "2  2014-09-27T05:04:58.066+0000  glastopf.events  style_css     None   \n",
       "3  2014-09-27T05:04:58.248+0000  glastopf.events    unknown     None   \n",
       "4  2014-09-27T05:07:57.267+0000  glastopf.events    unknown     None   \n",
       "\n",
       "                                         request_raw   request_url  \\\n",
       "0  GET /style.css HTTP/1.1\\r\\nAccept: text/css,*/...    /style.css   \n",
       "1  POST /index HTTP/1.1\\r\\nAccept: text/html,appl...        /index   \n",
       "2  GET /style.css HTTP/1.1\\r\\nAccept: text/css,*/...    /style.css   \n",
       "3  GET /favicon.ico HTTP/1.1\\r\\nAccept: */*\\r\\nAc...  /favicon.ico   \n",
       "4  GET /index HTTP/1.1\\r\\nAccept: text/html,appli...        /index   \n",
       "\n",
       "      attackerIP  ...  victimPort  victimIP connectionType connectionProtocol  \\\n",
       "0  162.197.24.67  ...        80.0         0            NaN                NaN   \n",
       "1  162.197.24.67  ...        80.0         0            NaN                NaN   \n",
       "2  162.197.24.67  ...        80.0         0            NaN                NaN   \n",
       "3  162.197.24.67  ...        80.0         0            NaN                NaN   \n",
       "4  173.174.71.56  ...        80.0         0            NaN                NaN   \n",
       "\n",
       "  priority header signature sensor connectionTransport remoteHostname  \n",
       "0      NaN    NaN       NaN    NaN                 NaN            NaN  \n",
       "1      NaN    NaN       NaN    NaN                 NaN            NaN  \n",
       "2      NaN    NaN       NaN    NaN                 NaN            NaN  \n",
       "3      NaN    NaN       NaN    NaN                 NaN            NaN  \n",
       "4      NaN    NaN       NaN    NaN                 NaN            NaN  \n",
       "\n",
       "[5 rows x 21 columns]"
      ]
     },
     "execution_count": 8,
     "metadata": {},
     "output_type": "execute_result"
    }
   ],
   "source": [
    "hp_df.head()"
   ]
  },
  {
   "cell_type": "code",
   "execution_count": 11,
   "metadata": {},
   "outputs": [],
   "source": [
    "hp_df.to_csv('../data/honeypot.csv', index=False)"
   ]
  },
  {
   "cell_type": "code",
   "execution_count": 16,
   "metadata": {},
   "outputs": [
    {
     "data": {
      "text/plain": [
       "3      986943\n",
       "71        698\n",
       "173       317\n",
       "129       304\n",
       "27        201\n",
       "        ...  \n",
       "753         1\n",
       "240         1\n",
       "751         1\n",
       "236         1\n",
       "234         1\n",
       "Name: request_raw, Length: 488, dtype: int64"
      ]
     },
     "execution_count": 16,
     "metadata": {},
     "output_type": "execute_result"
    }
   ],
   "source": [
    "hp_df['request_raw'].apply(lambda x: len(str(x))).value_counts()"
   ]
  },
  {
   "cell_type": "code",
   "execution_count": 18,
   "metadata": {},
   "outputs": [
    {
     "data": {
      "text/plain": [
       "reject                         437210\n",
       "initial                        366765\n",
       "connect                        114355\n",
       "Potentially Bad Traffic         30953\n",
       "accept                          23513\n",
       "Misc activity                    9483\n",
       "exploit                          4552\n",
       "listen                            102\n",
       "Attempted Denial of Service        10\n",
       "Name: connectionType, dtype: int64"
      ]
     },
     "execution_count": 18,
     "metadata": {},
     "output_type": "execute_result"
    }
   ],
   "source": [
    "hp_df['connectionType'].value_counts()"
   ]
  },
  {
   "cell_type": "code",
   "execution_count": 19,
   "metadata": {},
   "outputs": [
    {
     "data": {
      "text/plain": [
       "2    30963\n",
       "3     9483\n",
       "Name: priority, dtype: int64"
      ]
     },
     "execution_count": 19,
     "metadata": {},
     "output_type": "execute_result"
    }
   ],
   "source": [
    "hp_df['priority'].value_counts()"
   ]
  },
  {
   "cell_type": "code",
   "execution_count": 20,
   "metadata": {},
   "outputs": [
    {
     "data": {
      "text/plain": [
       "1:527:8          29418\n",
       "1:486:4           9469\n",
       "1:2003195:5       1535\n",
       "1:485:4             14\n",
       "1:100000158:2        3\n",
       "1:100000160:2        3\n",
       "1:2017919:2          3\n",
       "1:2017918:2          1\n",
       "Name: header, dtype: int64"
      ]
     },
     "execution_count": 20,
     "metadata": {},
     "output_type": "execute_result"
    }
   ],
   "source": [
    "hp_df['header'].value_counts()"
   ]
  },
  {
   "cell_type": "code",
   "execution_count": 22,
   "metadata": {},
   "outputs": [
    {
     "data": {
      "text/plain": [
       "3     953696\n",
       "24     29418\n",
       "95      9221\n",
       "54      1488\n",
       "96       248\n",
       "55        47\n",
       "71        11\n",
       "79         4\n",
       "70         3\n",
       "59         3\n",
       "36         3\n",
       "Name: signature, dtype: int64"
      ]
     },
     "execution_count": 22,
     "metadata": {},
     "output_type": "execute_result"
    }
   ],
   "source": [
    "hp_df['signature'].apply(lambda x: len(str(x))).value_counts()"
   ]
  },
  {
   "cell_type": "code",
   "execution_count": 23,
   "metadata": {},
   "outputs": [
    {
     "data": {
      "text/plain": [
       "3cc23d7a-c1ba-11e4-9ee4-0a0b6e7c3e9e    40140\n",
       "5cda4a12-4730-11e4-9ee4-0a0b6e7c3e9e      286\n",
       "e50f7cbe-472f-11e4-9ee4-0a0b6e7c3e9e       18\n",
       "139cfdf2-471e-11e4-9ee4-0a0b6e7c3e9e        1\n",
       "e93b34b2-4726-11e4-9ee4-0a0b6e7c3e9e        1\n",
       "Name: sensor, dtype: int64"
      ]
     },
     "execution_count": 23,
     "metadata": {},
     "output_type": "execute_result"
    }
   ],
   "source": [
    "hp_df['sensor'].value_counts()"
   ]
  },
  {
   "cell_type": "code",
   "execution_count": 25,
   "metadata": {},
   "outputs": [
    {
     "data": {
      "text/plain": [
       "tcp    461056\n",
       "udp    114119\n",
       "tls         5\n",
       "Name: connectionTransport, dtype: int64"
      ]
     },
     "execution_count": 25,
     "metadata": {},
     "output_type": "execute_result"
    }
   ],
   "source": [
    "hp_df['connectionTransport'].value_counts()"
   ]
  },
  {
   "cell_type": "code",
   "execution_count": 26,
   "metadata": {},
   "outputs": [
    {
     "data": {
      "text/plain": [
       "                         572065\n",
       "::ffff:85.25.207.170       1545\n",
       "::ffff:199.168.141.86       234\n",
       "::ffff:209.126.122.40        58\n",
       "::ffff:107.150.36.98         58\n",
       "                          ...  \n",
       "::ffff:89.163.242.73          1\n",
       "::ffff:23.95.114.108          1\n",
       "::ffff:5.152.205.122          1\n",
       "::ffff:185.40.4.192           1\n",
       "::ffff:178.33.3.163           1\n",
       "Name: remoteHostname, Length: 332, dtype: int64"
      ]
     },
     "execution_count": 26,
     "metadata": {},
     "output_type": "execute_result"
    }
   ],
   "source": [
    "hp_df['remoteHostname'].value_counts()"
   ]
  },
  {
   "cell_type": "code",
   "execution_count": null,
   "metadata": {},
   "outputs": [],
   "source": []
  }
 ],
 "metadata": {
  "kernelspec": {
   "display_name": "Python 3",
   "language": "python",
   "name": "python3"
  },
  "language_info": {
   "codemirror_mode": {
    "name": "ipython",
    "version": 3
   },
   "file_extension": ".py",
   "mimetype": "text/x-python",
   "name": "python",
   "nbconvert_exporter": "python",
   "pygments_lexer": "ipython3",
   "version": "3.7.4"
  }
 },
 "nbformat": 4,
 "nbformat_minor": 4
}
