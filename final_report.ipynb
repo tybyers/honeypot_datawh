{
 "cells": [
  {
   "cell_type": "markdown",
   "metadata": {},
   "source": [
    "# Udacity Data Engineering Capstone: Honeypot Data Warehouse\n",
    "\n",
    "By: Tyler Byers  \n",
    "Date: 2019-11-18  \n",
    "tybyers at gmail dot com"
   ]
  },
  {
   "cell_type": "markdown",
   "metadata": {},
   "source": [
    "## About\n",
    "\n",
    "This project writeup is submitted to fulfill requirements for the Udacity Data Engineering Capstone project. In this project, I used data sets from three different sources, totaling about 1.25 million rows of data, to create a Data Warehouse on Amazon Redshift. This data pulls together data from a data set compiling log data from a few different [honeypots] (JSON), [AlienVault](https://www.alienvault.com/) reputation data (#-delimited), and IP geolocation data from [freegeoip.app](https://freegeoip.app/) (API/CSV). \n",
    "\n",
    "If we were to imagine this Data Warehouse had a business implication, we could easily imagine a company \n",
    "\n",
    "TODO^^"
   ]
  },
  {
   "cell_type": "markdown",
   "metadata": {},
   "source": [
    "## Data Sets"
   ]
  },
  {
   "cell_type": "markdown",
   "metadata": {},
   "source": [
    "## Data Model"
   ]
  },
  {
   "cell_type": "markdown",
   "metadata": {},
   "source": [
    "<img src=\"./data/honeypot_db_schema.png\">"
   ]
  },
  {
   "cell_type": "markdown",
   "metadata": {},
   "source": [
    "## Process to Build Data Warehouse"
   ]
  },
  {
   "cell_type": "markdown",
   "metadata": {},
   "source": [
    "## Hypotheticals for Scaling"
   ]
  },
  {
   "cell_type": "markdown",
   "metadata": {},
   "source": [
    "## Demo: How to Setup, Run"
   ]
  },
  {
   "cell_type": "markdown",
   "metadata": {},
   "source": [
    "## Examples, Data Table Stats"
   ]
  },
  {
   "cell_type": "code",
   "execution_count": null,
   "metadata": {},
   "outputs": [],
   "source": []
  }
 ],
 "metadata": {
  "kernelspec": {
   "display_name": "Python 3",
   "language": "python",
   "name": "python3"
  },
  "language_info": {
   "codemirror_mode": {
    "name": "ipython",
    "version": 3
   },
   "file_extension": ".py",
   "mimetype": "text/x-python",
   "name": "python",
   "nbconvert_exporter": "python",
   "pygments_lexer": "ipython3",
   "version": "3.7.4"
  }
 },
 "nbformat": 4,
 "nbformat_minor": 4
}
