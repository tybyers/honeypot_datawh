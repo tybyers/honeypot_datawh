{
 "cells": [
  {
   "cell_type": "markdown",
   "metadata": {},
   "source": [
    "# Test the Table Commands"
   ]
  },
  {
   "cell_type": "code",
   "execution_count": 14,
   "metadata": {},
   "outputs": [
    {
     "name": "stdout",
     "output_type": "stream",
     "text": [
      "The autoreload extension is already loaded. To reload it, use:\n",
      "  %reload_ext autoreload\n",
      "The sql extension is already loaded. To reload it, use:\n",
      "  %reload_ext sql\n"
     ]
    }
   ],
   "source": [
    "%load_ext autoreload\n",
    "%autoreload 2\n",
    "import sys, os\n",
    "scriptpath = '..'\n",
    "%load_ext sql\n",
    "sys.path.append(os.path.abspath(scriptpath))"
   ]
  },
  {
   "cell_type": "code",
   "execution_count": 28,
   "metadata": {},
   "outputs": [],
   "source": [
    "from honeypot_redshift import honeypot_redshift"
   ]
  },
  {
   "cell_type": "code",
   "execution_count": 29,
   "metadata": {},
   "outputs": [],
   "source": [
    "hprs = honeypot_redshift(config_file='../aws.cfg')"
   ]
  },
  {
   "cell_type": "code",
   "execution_count": 21,
   "metadata": {},
   "outputs": [
    {
     "name": "stdout",
     "output_type": "stream",
     "text": [
      "Creating a new IAM Role\n",
      "An error occurred (EntityAlreadyExists) when calling the CreateRole operation: Role with name honeypotRole already exists.\n",
      "Attaching IAM policy\n"
     ]
    }
   ],
   "source": [
    "hprs.attach_iam_role()"
   ]
  },
  {
   "cell_type": "code",
   "execution_count": 35,
   "metadata": {},
   "outputs": [],
   "source": [
    "hprs.db_connect()"
   ]
  },
  {
   "cell_type": "code",
   "execution_count": 24,
   "metadata": {},
   "outputs": [
    {
     "name": "stdout",
     "output_type": "stream",
     "text": [
      "Dropping table: staging_honeypot\n",
      "Dropping table: staging_ipgeo\n",
      "Dropping table: staging_reputation\n",
      "Dropping table: dim_glastopf\n",
      "Dropping table: dim_amun\n",
      "Dropping table: dim_dionaea\n",
      "Dropping table: dim_snort\n",
      "Dropping table: dim_ipgeo\n",
      "Dropping table: dim_reputation\n",
      "Dropping table: fact_attacks\n"
     ]
    }
   ],
   "source": [
    "hprs.delete_tables()"
   ]
  },
  {
   "cell_type": "code",
   "execution_count": 25,
   "metadata": {},
   "outputs": [
    {
     "name": "stdout",
     "output_type": "stream",
     "text": [
      "Creating table: staging_honeypot\n",
      "Creating table: staging_ipgeo\n",
      "Creating table: staging_reputation\n",
      "Creating table: dim_glastopf\n",
      "Creating table: dim_amun\n",
      "Creating table: dim_dionaea\n",
      "Creating table: dim_snort\n",
      "Creating table: dim_ipgeo\n",
      "Creating table: dim_reputation\n",
      "Creating table: fact_attacks\n"
     ]
    }
   ],
   "source": [
    "hprs.create_tables()"
   ]
  },
  {
   "cell_type": "code",
   "execution_count": 26,
   "metadata": {},
   "outputs": [
    {
     "name": "stdout",
     "output_type": "stream",
     "text": [
      "Copying into table: staging_honeypot\n"
     ]
    },
    {
     "ename": "InternalError",
     "evalue": "User arn:aws:redshift:us-west-2:493772843958:dbuser:honeypotcluster/honeypotuser is not authorized to assume IAM Role arn:aws:iam::493772843958:role/honeypotRole\nDETAIL:  \n  -----------------------------------------------\n  error:  User arn:aws:redshift:us-west-2:493772843958:dbuser:honeypotcluster/honeypotuser is not authorized to assume IAM Role arn:aws:iam::493772843958:role/honeypotRole\n  code:      8001\n  context:   IAM Role=arn:aws:iam::493772843958:role/honeypotRole\n  query:     781\n  location:  xen_aws_credentials_mgr.cpp:321\n  process:   padbmaster [pid=23468]\n  -----------------------------------------------\n\n",
     "output_type": "error",
     "traceback": [
      "\u001b[0;31m---------------------------------------------------------------------------\u001b[0m",
      "\u001b[0;31mInternalError\u001b[0m                             Traceback (most recent call last)",
      "\u001b[0;32m<ipython-input-26-c07f9ae3606d>\u001b[0m in \u001b[0;36m<module>\u001b[0;34m\u001b[0m\n\u001b[0;32m----> 1\u001b[0;31m \u001b[0mhprs\u001b[0m\u001b[0;34m.\u001b[0m\u001b[0mcopy_into_tables\u001b[0m\u001b[0;34m(\u001b[0m\u001b[0;34m)\u001b[0m\u001b[0;34m\u001b[0m\u001b[0;34m\u001b[0m\u001b[0m\n\u001b[0m",
      "\u001b[0;32m~/Udacity/honeypot_dend/honeypot_redshift.py\u001b[0m in \u001b[0;36mcopy_into_tables\u001b[0;34m(self, tables)\u001b[0m\n\u001b[1;32m    141\u001b[0m                     \u001b[0mself\u001b[0m\u001b[0;34m.\u001b[0m\u001b[0mdata_paths\u001b[0m\u001b[0;34m[\u001b[0m\u001b[0mtable\u001b[0m\u001b[0;34m]\u001b[0m\u001b[0;34m,\u001b[0m \u001b[0mself\u001b[0m\u001b[0;34m.\u001b[0m\u001b[0mIAM_ROLE\u001b[0m\u001b[0;34m\u001b[0m\u001b[0;34m\u001b[0m\u001b[0m\n\u001b[1;32m    142\u001b[0m                 )\n\u001b[0;32m--> 143\u001b[0;31m                 \u001b[0mcur\u001b[0m\u001b[0;34m.\u001b[0m\u001b[0mexecute\u001b[0m\u001b[0;34m(\u001b[0m\u001b[0mcmd\u001b[0m\u001b[0;34m)\u001b[0m\u001b[0;34m\u001b[0m\u001b[0;34m\u001b[0m\u001b[0m\n\u001b[0m\u001b[1;32m    144\u001b[0m                 \u001b[0mself\u001b[0m\u001b[0;34m.\u001b[0m\u001b[0mconn\u001b[0m\u001b[0;34m.\u001b[0m\u001b[0mcommit\u001b[0m\u001b[0;34m(\u001b[0m\u001b[0;34m)\u001b[0m\u001b[0;34m\u001b[0m\u001b[0;34m\u001b[0m\u001b[0m\n\u001b[1;32m    145\u001b[0m \u001b[0;34m\u001b[0m\u001b[0m\n",
      "\u001b[0;31mInternalError\u001b[0m: User arn:aws:redshift:us-west-2:493772843958:dbuser:honeypotcluster/honeypotuser is not authorized to assume IAM Role arn:aws:iam::493772843958:role/honeypotRole\nDETAIL:  \n  -----------------------------------------------\n  error:  User arn:aws:redshift:us-west-2:493772843958:dbuser:honeypotcluster/honeypotuser is not authorized to assume IAM Role arn:aws:iam::493772843958:role/honeypotRole\n  code:      8001\n  context:   IAM Role=arn:aws:iam::493772843958:role/honeypotRole\n  query:     781\n  location:  xen_aws_credentials_mgr.cpp:321\n  process:   padbmaster [pid=23468]\n  -----------------------------------------------\n\n"
     ]
    }
   ],
   "source": [
    "hprs.copy_into_tables()"
   ]
  },
  {
   "cell_type": "code",
   "execution_count": 70,
   "metadata": {},
   "outputs": [
    {
     "name": "stdout",
     "output_type": "stream",
     "text": [
      "Inserting into table: dim_glastopf\n",
      "Inserting into table: dim_amun\n",
      "Inserting into table: dim_dionaea\n",
      "Inserting into table: dim_snort\n",
      "Inserting into table: dim_ipgeo\n",
      "Inserting into table: dim_reputation\n",
      "Inserting into table: fact_attacks\n"
     ]
    }
   ],
   "source": [
    "hprs.insert_into_tables()"
   ]
  },
  {
   "cell_type": "code",
   "execution_count": 31,
   "metadata": {},
   "outputs": [
    {
     "data": {
      "text/plain": [
       "'arn:aws:iam::493772843958:role/honeypotRole'"
      ]
     },
     "execution_count": 31,
     "metadata": {},
     "output_type": "execute_result"
    }
   ],
   "source": [
    "hprs.IAM_ROLE"
   ]
  },
  {
   "cell_type": "code",
   "execution_count": 34,
   "metadata": {},
   "outputs": [
    {
     "data": {
      "text/plain": [
       "{'ClusterIdentifier': 'honeypotcluster',\n",
       " 'NodeType': 'dc2.large',\n",
       " 'ClusterStatus': 'available',\n",
       " 'MasterUsername': 'honeypotuser',\n",
       " 'DBName': 'honeypot',\n",
       " 'Endpoint': {'Address': 'honeypotcluster.cd5n9t7oif0x.us-west-2.redshift.amazonaws.com',\n",
       "  'Port': 5439},\n",
       " 'VpcId': 'vpc-7cbe4719',\n",
       " 'NumberOfNodes': 4}"
      ]
     },
     "execution_count": 34,
     "metadata": {},
     "output_type": "execute_result"
    }
   ],
   "source": [
    "hprs.get_cluster_info()"
   ]
  },
  {
   "cell_type": "markdown",
   "metadata": {},
   "source": [
    "Need to figure out how to pass a SQL query and get the data back."
   ]
  },
  {
   "cell_type": "code",
   "execution_count": 36,
   "metadata": {},
   "outputs": [],
   "source": [
    "cur = hprs.conn.cursor()"
   ]
  },
  {
   "cell_type": "code",
   "execution_count": 61,
   "metadata": {},
   "outputs": [],
   "source": [
    "cur.execute('SELECT count(*) FROM staging_honeypot;')\n",
    "#for record in cur:\n",
    "#    print(record[0])\n",
    "#hprs.conn.commit()"
   ]
  },
  {
   "cell_type": "code",
   "execution_count": 62,
   "metadata": {},
   "outputs": [
    {
     "data": {
      "text/plain": [
       "[(994142,)]"
      ]
     },
     "execution_count": 62,
     "metadata": {},
     "output_type": "execute_result"
    }
   ],
   "source": [
    "cur.fetchall()"
   ]
  },
  {
   "cell_type": "code",
   "execution_count": 63,
   "metadata": {},
   "outputs": [
    {
     "data": {
      "text/plain": [
       "[(993990,)]"
      ]
     },
     "execution_count": 63,
     "metadata": {},
     "output_type": "execute_result"
    }
   ],
   "source": [
    "cur.execute('SELECT count(*) from attacks;')\n",
    "cur.fetchall()"
   ]
  },
  {
   "cell_type": "code",
   "execution_count": 65,
   "metadata": {},
   "outputs": [
    {
     "data": {
      "text/plain": [
       "[(575180,)]"
      ]
     },
     "execution_count": 65,
     "metadata": {},
     "output_type": "execute_result"
    }
   ],
   "source": [
    "cur.execute('SELECT count(*) from dionaea_events')\n",
    "cur.fetchall()"
   ]
  },
  {
   "cell_type": "code",
   "execution_count": 72,
   "metadata": {},
   "outputs": [
    {
     "data": {
      "text/plain": [
       "[('', 'France', 85865),\n",
       " ('Jiangsu', 'China', 66066),\n",
       " ('Zhejiang', 'China', 60834),\n",
       " ('Arizona', 'United States', 55977),\n",
       " ('', 'Russia', 42869),\n",
       " ('', 'United Kingdom', 35344),\n",
       " ('', '', 30336),\n",
       " ('Missouri', 'United States', 22731),\n",
       " ('', 'Singapore', 22670),\n",
       " ('', 'United States', 22270)]"
      ]
     },
     "execution_count": 72,
     "metadata": {},
     "output_type": "execute_result"
    }
   ],
   "source": [
    "cur.execute('SELECT attacker_region, attacker_country, count(*) as count from attacks\\\n",
    "            GROUP BY attacker_region, attacker_country\\\n",
    "            ORDER BY count DESC\\\n",
    "            LIMIT 10;')\n",
    "cur.fetchall()"
   ]
  },
  {
   "cell_type": "code",
   "execution_count": 70,
   "metadata": {},
   "outputs": [],
   "source": [
    "hprs.conn.commit()"
   ]
  },
  {
   "cell_type": "markdown",
   "metadata": {},
   "source": [
    "Project steps:\n",
    "\n",
    "X* Create schema for dimension tables\n",
    "X* Build Insert statements for dimension tables\n",
    "X* Create schema for fact table\n",
    "X * Build Insert statements for fact table\n",
    "X* Save schema image. \n",
    "X* change honeypot data to be whole set\n",
    "X* Code documentation almost done...\n",
    "x* Write script to setup cluster...\n",
    "x  * Include 30-second \"checks\" on the database build...\n",
    "x* Write script to tear down cluster\n",
    "x * Build in data quality checks.  \n",
    "x* Write script to do all other database wrangling on-the-fly... (etl) -- Need data quality checks still\n",
    "x* Write data dictionary\n",
    "x* Change *analysis* folder to *working*. \n",
    "x* Write Readme\n",
    "* Write blog post (or other write-up). "
   ]
  },
  {
   "cell_type": "code",
   "execution_count": null,
   "metadata": {},
   "outputs": [],
   "source": []
  }
 ],
 "metadata": {
  "kernelspec": {
   "display_name": "Python 3",
   "language": "python",
   "name": "python3"
  },
  "language_info": {
   "codemirror_mode": {
    "name": "ipython",
    "version": 3
   },
   "file_extension": ".py",
   "mimetype": "text/x-python",
   "name": "python",
   "nbconvert_exporter": "python",
   "pygments_lexer": "ipython3",
   "version": "3.7.4"
  }
 },
 "nbformat": 4,
 "nbformat_minor": 4
}
