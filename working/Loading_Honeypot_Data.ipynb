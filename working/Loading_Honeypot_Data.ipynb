{
 "cells": [
  {
   "cell_type": "markdown",
   "metadata": {},
   "source": [
    "# Import Honeypot Data\n",
    "\n",
    "Downloaded the honeypot data from https://www.secrepo.com/honeypot/honeypot.json.zip  \n",
    "\n",
    "Now need to figure out what sort of work is required to make it usable."
   ]
  },
  {
   "cell_type": "code",
   "execution_count": 6,
   "metadata": {},
   "outputs": [],
   "source": [
    "import json\n",
    "import pandas as pd\n",
    "import sys"
   ]
  },
  {
   "cell_type": "markdown",
   "metadata": {},
   "source": [
    "Can I even straight-up load with pandas? \n",
    "\n",
    "Answer was no -- needs custom loading function"
   ]
  },
  {
   "cell_type": "code",
   "execution_count": 2,
   "metadata": {},
   "outputs": [],
   "source": [
    "with open('../data/honeypot.json') as f:\n",
    "    jsons = [json.loads(l) for l in f.readlines()]\n",
    "#    dfs = [pd.DataFrame(j) for j in jsons]"
   ]
  },
  {
   "cell_type": "code",
   "execution_count": 17,
   "metadata": {},
   "outputs": [],
   "source": [
    "def build_df_row(j):\n",
    "    try:\n",
    "        if j['channel'] == 'glastopf.events':\n",
    "            payload = json.loads(j['payload'])\n",
    "            row = pd.DataFrame({\n",
    "                'id'             : j['_id']['$oid'],\n",
    "                'ident'          : j['ident'],\n",
    "                'normalized'     : j['normalized'],\n",
    "                'timestamp'      : j['timestamp']['$date'],\n",
    "                'channel'        : j['channel'],\n",
    "                'pattern'        : payload['pattern'],\n",
    "                'filename'       : payload['filename'],\n",
    "                'request_raw'    : payload['request_raw'],\n",
    "                'request_url'    : payload['request_url'],\n",
    "                'attackerIP'     : payload['source'][0],\n",
    "                'attackerPort'   : payload['source'][1],\n",
    "                'victimPort'     : 80, # from documentation,\n",
    "                'victimIP'       : 0 # might need to do something else with this, see documentation\n",
    "            }, index = [0])\n",
    "        elif j['channel'] == 'amun.events':\n",
    "            payload = json.loads(j['payload'])\n",
    "            row = pd.DataFrame({\n",
    "                'id'             : j['_id']['$oid'],\n",
    "                'ident'          : j['ident'],\n",
    "                'normalized'     : j['normalized'],\n",
    "                'timestamp'      : j['timestamp']['$date'],\n",
    "                'channel'        : j['channel'],\n",
    "                'attackerIP'     : payload['attackerIP'],\n",
    "                'attackerPort'   : payload['attackerPort'],\n",
    "                'victimIP'       : payload['victimIP'],\n",
    "                'victimPort'     : payload['victimPort'],\n",
    "                'connectionType' : payload['connectionType']      \n",
    "            }, index = [0])\n",
    "        elif j['channel'] == 'dionaea.connections':\n",
    "            payload = json.loads(j['payload'])\n",
    "            row = pd.DataFrame({\n",
    "                'id'                  : j['_id']['$oid'],\n",
    "                'ident'               : j['ident'],\n",
    "                'normalized'          : j['normalized'],\n",
    "                'timestamp'           : j['timestamp']['$date'],\n",
    "                'channel'             : j['channel'],\n",
    "                'attackerIP'          : payload['remote_host'],\n",
    "                'attackerPort'        : payload['remote_port'],\n",
    "                'victimIP'            : payload['local_host'],\n",
    "                'victimPort'          : payload['local_port'],\n",
    "                'connectionType'      : payload['connection_type'],\n",
    "                'connectionTransport' : payload['connection_transport'],\n",
    "                'connectionProtocol'  : payload['connection_protocol'],\n",
    "                'remoteHostname'      : payload['remote_hostname']\n",
    "            }, index = [0])\n",
    "        elif j['channel'] == 'snort.alerts':\n",
    "            payload = json.loads(j['payload'])\n",
    "            row = pd.DataFrame({\n",
    "                'id'                  : j['_id']['$oid'],\n",
    "                'ident'               : j['ident'],\n",
    "                'normalized'          : j['normalized'],\n",
    "                'timestamp'           : j['timestamp']['$date'],\n",
    "                'channel'             : j['channel'],\n",
    "                'attackerIP'          : payload['source_ip'],\n",
    "                'victimIP'            : payload['destination_ip'],\n",
    "                'connectionType'      : payload['classification'],\n",
    "                'connectionProtocol'  : payload['proto'],\n",
    "                'priority'            : payload['priority'],\n",
    "                'header'              : payload['header'],\n",
    "                'signature'           : payload['signature'],\n",
    "                'sensor'              : payload['sensor']\n",
    "            }, index = [0])\n",
    "        else:\n",
    "            row = pd.DataFrame()\n",
    "        return row\n",
    "    except:\n",
    "        print(sys.exc_info())\n",
    "        print(j)"
   ]
  },
  {
   "cell_type": "markdown",
   "metadata": {},
   "source": [
    "{'_id': {'$oid': '542820019f8c6d41306aeaff'}, 'ident': '139cfdf2-471e-11e4-9ee4-0a0b6e7c3e9e', 'timestamp': {'$date': '2014-09-28T14:49:37.787+0000'}, 'normalized': True, 'payload': '{\"destination_ip\": \"172.31.13.124\", \"classification\": \"Misc activity\", \"proto\": \"ICMP\", \"source_ip\": \"201.158.32.1\", \"priority\": \"3\", \"header\": \"1:486:4\", \"signature\": \"ICMP Destination Unreachable Communication with Destination Host is Administratively Prohibited \", \"date\": \"2014-09-28T14:49:43.391463\", \"sensor\": \"139cfdf2-471e-11e4-9ee4-0a0b6e7c3e9e\"}', 'channel': 'snort.alerts'}\n",
    "{'_id': {'$oid': '54283a699f8c6d41306aeb31'}, 'ident': 'e93b34b2-4726-11e4-9ee4-0a0b6e7c3e9e', 'timestamp': {'$date': '2014-09-28T16:42:17.698+0000'}, 'normalized': True, 'payload': '{\"destination_ip\": \"172.31.14.66\", \"classification\": \"Misc activity\", \"proto\": \"ICMP\", \"source_ip\": \"218.77.79.58\", \"priority\": \"3\", \"header\": \"1:486:4\", \"signature\": \"ICMP Destination Unreachable Communication with Destination Host is Administratively Prohibited \", \"date\": \"2014-09-28T16:42:31.769696\", \"sensor\": \"e93b34b2-4726-11e4-9ee4-0a0b6e7c3e9e\"}', 'channel': 'snort.alerts'}"
   ]
  },
  {
   "cell_type": "code",
   "execution_count": 18,
   "metadata": {},
   "outputs": [],
   "source": [
    "#tj = {'_id': {'$oid': '542820019f8c6d41306aeaff'}, 'ident': '139cfdf2-471e-11e4-9ee4-0a0b6e7c3e9e', 'timestamp': {'$date': '2014-09-28T14:49:37.787+0000'}, 'normalized': True, 'payload': '{\"destination_ip\": \"172.31.13.124\", \"classification\": \"Misc activity\", \"proto\": \"ICMP\", \"source_ip\": \"201.158.32.1\", \"priority\": \"3\", \"header\": \"1:486:4\", \"signature\": \"ICMP Destination Unreachable Communication with Destination Host is Administratively Prohibited \", \"date\": \"2014-09-28T14:49:43.391463\", \"sensor\": \"139cfdf2-471e-11e4-9ee4-0a0b6e7c3e9e\"}', 'channel': 'snort.alerts'}"
   ]
  },
  {
   "cell_type": "code",
   "execution_count": 19,
   "metadata": {},
   "outputs": [],
   "source": [
    "#build_df_row(tj)"
   ]
  },
  {
   "cell_type": "code",
   "execution_count": 24,
   "metadata": {},
   "outputs": [
    {
     "data": {
      "text/html": [
       "<div>\n",
       "<style scoped>\n",
       "    .dataframe tbody tr th:only-of-type {\n",
       "        vertical-align: middle;\n",
       "    }\n",
       "\n",
       "    .dataframe tbody tr th {\n",
       "        vertical-align: top;\n",
       "    }\n",
       "\n",
       "    .dataframe thead th {\n",
       "        text-align: right;\n",
       "    }\n",
       "</style>\n",
       "<table border=\"1\" class=\"dataframe\">\n",
       "  <thead>\n",
       "    <tr style=\"text-align: right;\">\n",
       "      <th></th>\n",
       "      <th>id</th>\n",
       "      <th>ident</th>\n",
       "      <th>normalized</th>\n",
       "      <th>timestamp</th>\n",
       "      <th>channel</th>\n",
       "      <th>pattern</th>\n",
       "      <th>filename</th>\n",
       "      <th>request_raw</th>\n",
       "      <th>request_url</th>\n",
       "      <th>attackerIP</th>\n",
       "      <th>...</th>\n",
       "      <th>victimPort</th>\n",
       "      <th>victimIP</th>\n",
       "      <th>connectionType</th>\n",
       "      <th>connectionProtocol</th>\n",
       "      <th>priority</th>\n",
       "      <th>header</th>\n",
       "      <th>signature</th>\n",
       "      <th>sensor</th>\n",
       "      <th>connectionTransport</th>\n",
       "      <th>remoteHostname</th>\n",
       "    </tr>\n",
       "  </thead>\n",
       "  <tbody>\n",
       "    <tr>\n",
       "      <th>0</th>\n",
       "      <td>5426456e9f8c6d41306aea57</td>\n",
       "      <td>a16f5f36-3c41-11e4-9ee4-0a0b6e7c3e9e</td>\n",
       "      <td>True</td>\n",
       "      <td>2014-09-27T05:04:46.363+0000</td>\n",
       "      <td>glastopf.events</td>\n",
       "      <td>style_css</td>\n",
       "      <td>None</td>\n",
       "      <td>GET /style.css HTTP/1.1\\r\\nAccept: text/css,*/...</td>\n",
       "      <td>/style.css</td>\n",
       "      <td>162.197.24.67</td>\n",
       "      <td>...</td>\n",
       "      <td>80.0</td>\n",
       "      <td>0</td>\n",
       "      <td>NaN</td>\n",
       "      <td>NaN</td>\n",
       "      <td>NaN</td>\n",
       "      <td>NaN</td>\n",
       "      <td>NaN</td>\n",
       "      <td>NaN</td>\n",
       "      <td>NaN</td>\n",
       "      <td>NaN</td>\n",
       "    </tr>\n",
       "    <tr>\n",
       "      <th>1</th>\n",
       "      <td>542645799f8c6d41306aea59</td>\n",
       "      <td>a16f5f36-3c41-11e4-9ee4-0a0b6e7c3e9e</td>\n",
       "      <td>True</td>\n",
       "      <td>2014-09-27T05:04:57.901+0000</td>\n",
       "      <td>glastopf.events</td>\n",
       "      <td>unknown</td>\n",
       "      <td>None</td>\n",
       "      <td>POST /index HTTP/1.1\\r\\nAccept: text/html,appl...</td>\n",
       "      <td>/index</td>\n",
       "      <td>162.197.24.67</td>\n",
       "      <td>...</td>\n",
       "      <td>80.0</td>\n",
       "      <td>0</td>\n",
       "      <td>NaN</td>\n",
       "      <td>NaN</td>\n",
       "      <td>NaN</td>\n",
       "      <td>NaN</td>\n",
       "      <td>NaN</td>\n",
       "      <td>NaN</td>\n",
       "      <td>NaN</td>\n",
       "      <td>NaN</td>\n",
       "    </tr>\n",
       "    <tr>\n",
       "      <th>2</th>\n",
       "      <td>5426457a9f8c6d41306aea5a</td>\n",
       "      <td>a16f5f36-3c41-11e4-9ee4-0a0b6e7c3e9e</td>\n",
       "      <td>True</td>\n",
       "      <td>2014-09-27T05:04:58.066+0000</td>\n",
       "      <td>glastopf.events</td>\n",
       "      <td>style_css</td>\n",
       "      <td>None</td>\n",
       "      <td>GET /style.css HTTP/1.1\\r\\nAccept: text/css,*/...</td>\n",
       "      <td>/style.css</td>\n",
       "      <td>162.197.24.67</td>\n",
       "      <td>...</td>\n",
       "      <td>80.0</td>\n",
       "      <td>0</td>\n",
       "      <td>NaN</td>\n",
       "      <td>NaN</td>\n",
       "      <td>NaN</td>\n",
       "      <td>NaN</td>\n",
       "      <td>NaN</td>\n",
       "      <td>NaN</td>\n",
       "      <td>NaN</td>\n",
       "      <td>NaN</td>\n",
       "    </tr>\n",
       "    <tr>\n",
       "      <th>3</th>\n",
       "      <td>5426457a9f8c6d41306aea5d</td>\n",
       "      <td>a16f5f36-3c41-11e4-9ee4-0a0b6e7c3e9e</td>\n",
       "      <td>True</td>\n",
       "      <td>2014-09-27T05:04:58.248+0000</td>\n",
       "      <td>glastopf.events</td>\n",
       "      <td>unknown</td>\n",
       "      <td>None</td>\n",
       "      <td>GET /favicon.ico HTTP/1.1\\r\\nAccept: */*\\r\\nAc...</td>\n",
       "      <td>/favicon.ico</td>\n",
       "      <td>162.197.24.67</td>\n",
       "      <td>...</td>\n",
       "      <td>80.0</td>\n",
       "      <td>0</td>\n",
       "      <td>NaN</td>\n",
       "      <td>NaN</td>\n",
       "      <td>NaN</td>\n",
       "      <td>NaN</td>\n",
       "      <td>NaN</td>\n",
       "      <td>NaN</td>\n",
       "      <td>NaN</td>\n",
       "      <td>NaN</td>\n",
       "    </tr>\n",
       "    <tr>\n",
       "      <th>4</th>\n",
       "      <td>5426462d9f8c6d41306aea5f</td>\n",
       "      <td>a16f5f36-3c41-11e4-9ee4-0a0b6e7c3e9e</td>\n",
       "      <td>True</td>\n",
       "      <td>2014-09-27T05:07:57.267+0000</td>\n",
       "      <td>glastopf.events</td>\n",
       "      <td>unknown</td>\n",
       "      <td>None</td>\n",
       "      <td>GET /index HTTP/1.1\\r\\nAccept: text/html,appli...</td>\n",
       "      <td>/index</td>\n",
       "      <td>173.174.71.56</td>\n",
       "      <td>...</td>\n",
       "      <td>80.0</td>\n",
       "      <td>0</td>\n",
       "      <td>NaN</td>\n",
       "      <td>NaN</td>\n",
       "      <td>NaN</td>\n",
       "      <td>NaN</td>\n",
       "      <td>NaN</td>\n",
       "      <td>NaN</td>\n",
       "      <td>NaN</td>\n",
       "      <td>NaN</td>\n",
       "    </tr>\n",
       "  </tbody>\n",
       "</table>\n",
       "<p>5 rows × 21 columns</p>\n",
       "</div>"
      ],
      "text/plain": [
       "                         id                                 ident  normalized  \\\n",
       "0  5426456e9f8c6d41306aea57  a16f5f36-3c41-11e4-9ee4-0a0b6e7c3e9e        True   \n",
       "1  542645799f8c6d41306aea59  a16f5f36-3c41-11e4-9ee4-0a0b6e7c3e9e        True   \n",
       "2  5426457a9f8c6d41306aea5a  a16f5f36-3c41-11e4-9ee4-0a0b6e7c3e9e        True   \n",
       "3  5426457a9f8c6d41306aea5d  a16f5f36-3c41-11e4-9ee4-0a0b6e7c3e9e        True   \n",
       "4  5426462d9f8c6d41306aea5f  a16f5f36-3c41-11e4-9ee4-0a0b6e7c3e9e        True   \n",
       "\n",
       "                      timestamp          channel    pattern filename  \\\n",
       "0  2014-09-27T05:04:46.363+0000  glastopf.events  style_css     None   \n",
       "1  2014-09-27T05:04:57.901+0000  glastopf.events    unknown     None   \n",
       "2  2014-09-27T05:04:58.066+0000  glastopf.events  style_css     None   \n",
       "3  2014-09-27T05:04:58.248+0000  glastopf.events    unknown     None   \n",
       "4  2014-09-27T05:07:57.267+0000  glastopf.events    unknown     None   \n",
       "\n",
       "                                         request_raw   request_url  \\\n",
       "0  GET /style.css HTTP/1.1\\r\\nAccept: text/css,*/...    /style.css   \n",
       "1  POST /index HTTP/1.1\\r\\nAccept: text/html,appl...        /index   \n",
       "2  GET /style.css HTTP/1.1\\r\\nAccept: text/css,*/...    /style.css   \n",
       "3  GET /favicon.ico HTTP/1.1\\r\\nAccept: */*\\r\\nAc...  /favicon.ico   \n",
       "4  GET /index HTTP/1.1\\r\\nAccept: text/html,appli...        /index   \n",
       "\n",
       "      attackerIP      ...        victimPort  victimIP connectionType  \\\n",
       "0  162.197.24.67      ...              80.0         0            NaN   \n",
       "1  162.197.24.67      ...              80.0         0            NaN   \n",
       "2  162.197.24.67      ...              80.0         0            NaN   \n",
       "3  162.197.24.67      ...              80.0         0            NaN   \n",
       "4  173.174.71.56      ...              80.0         0            NaN   \n",
       "\n",
       "  connectionProtocol priority header signature sensor connectionTransport  \\\n",
       "0                NaN      NaN    NaN       NaN    NaN                 NaN   \n",
       "1                NaN      NaN    NaN       NaN    NaN                 NaN   \n",
       "2                NaN      NaN    NaN       NaN    NaN                 NaN   \n",
       "3                NaN      NaN    NaN       NaN    NaN                 NaN   \n",
       "4                NaN      NaN    NaN       NaN    NaN                 NaN   \n",
       "\n",
       "  remoteHostname  \n",
       "0            NaN  \n",
       "1            NaN  \n",
       "2            NaN  \n",
       "3            NaN  \n",
       "4            NaN  \n",
       "\n",
       "[5 rows x 21 columns]"
      ]
     },
     "execution_count": 24,
     "metadata": {},
     "output_type": "execute_result"
    }
   ],
   "source": [
    "# df = pd.concat([build_df_row(j) for j in jsons], sort=False, )\n",
    "# df.reset_index(inplace=True, drop=True)\n",
    "df.head()"
   ]
  },
  {
   "cell_type": "code",
   "execution_count": 27,
   "metadata": {},
   "outputs": [],
   "source": [
    "# Let's save the df off so we don't have to spend so long re-creating it if needed.\n",
    "#df.to_pickle('../data/honeypot_df.pkl')"
   ]
  },
  {
   "cell_type": "code",
   "execution_count": 21,
   "metadata": {},
   "outputs": [
    {
     "data": {
      "text/plain": [
       "(994142, 21)"
      ]
     },
     "execution_count": 21,
     "metadata": {},
     "output_type": "execute_result"
    }
   ],
   "source": [
    "df.shape"
   ]
  },
  {
   "cell_type": "code",
   "execution_count": 22,
   "metadata": {},
   "outputs": [
    {
     "data": {
      "text/plain": [
       "reject                         437210\n",
       "initial                        366765\n",
       "connect                        114355\n",
       "Potentially Bad Traffic         30953\n",
       "accept                          23513\n",
       "Misc activity                    9483\n",
       "exploit                          4552\n",
       "listen                            102\n",
       "Attempted Denial of Service        10\n",
       "Name: connectionType, dtype: int64"
      ]
     },
     "execution_count": 22,
     "metadata": {},
     "output_type": "execute_result"
    }
   ],
   "source": [
    "df['connectionType'].value_counts()"
   ]
  },
  {
   "cell_type": "code",
   "execution_count": 23,
   "metadata": {},
   "outputs": [
    {
     "data": {
      "text/plain": [
       "162.244.30.100           447932\n",
       "172.31.13.124            216754\n",
       "172.31.14.66             154869\n",
       "::                       111054\n",
       "255.255.255.255           29418\n",
       "::ffff:162.244.30.100     26893\n",
       "0                          7199\n",
       "                             23\n",
       "Name: victimIP, dtype: int64"
      ]
     },
     "execution_count": 23,
     "metadata": {},
     "output_type": "execute_result"
    }
   ],
   "source": [
    "df['victimIP'].value_counts()"
   ]
  },
  {
   "cell_type": "code",
   "execution_count": 50,
   "metadata": {},
   "outputs": [
    {
     "data": {
      "text/plain": [
       "994692"
      ]
     },
     "execution_count": 50,
     "metadata": {},
     "output_type": "execute_result"
    }
   ],
   "source": [
    "len(jsons)"
   ]
  },
  {
   "cell_type": "code",
   "execution_count": 51,
   "metadata": {},
   "outputs": [
    {
     "data": {
      "text/plain": [
       "{'glastopf.events': 7198,\n",
       " 'amun.events': 371316,\n",
       " 'snort.alerts': 40445,\n",
       " 'dionaea.connections': 575179,\n",
       " 'dionaea.capture': 542,\n",
       " 'mwbinary.dionaea.sensorunique': 6}"
      ]
     },
     "execution_count": 51,
     "metadata": {},
     "output_type": "execute_result"
    }
   ],
   "source": [
    "chan_count = {}\n",
    "for j in jsons:\n",
    "    chan = j['channel']\n",
    "    if chan not in chan_count:\n",
    "        chan_count[chan] = 0\n",
    "    else:\n",
    "        chan_count[chan] += 1\n",
    "chan_count"
   ]
  },
  {
   "cell_type": "code",
   "execution_count": 28,
   "metadata": {},
   "outputs": [],
   "source": [
    "# used for showing format of various honeypot returns\n",
    "# d_ct = 0\n",
    "# for j in jsons:\n",
    "#     if j['channel'] == 'dionaea.connections':\n",
    "#         d_ct += 1\n",
    "#         print(j)\n",
    "#     if d_ct > 20:\n",
    "#         break"
   ]
  },
  {
   "cell_type": "markdown",
   "metadata": {},
   "source": [
    "How many unique attacker IPs do we have?"
   ]
  },
  {
   "cell_type": "code",
   "execution_count": 30,
   "metadata": {},
   "outputs": [
    {
     "data": {
      "text/plain": [
       "185936"
      ]
     },
     "execution_count": 30,
     "metadata": {},
     "output_type": "execute_result"
    }
   ],
   "source": [
    "len(df['attackerIP'].unique())"
   ]
  },
  {
   "cell_type": "markdown",
   "metadata": {},
   "source": [
    "Ok that's more than expected. "
   ]
  },
  {
   "cell_type": "code",
   "execution_count": 31,
   "metadata": {},
   "outputs": [
    {
     "data": {
      "text/plain": [
       "12.395733333333334"
      ]
     },
     "execution_count": 31,
     "metadata": {},
     "output_type": "execute_result"
    }
   ],
   "source": [
    "185936/15000"
   ]
  },
  {
   "cell_type": "markdown",
   "metadata": {},
   "source": [
    "If we were to use https://freegeoip.app/ to get the IP info, it would take us about 13 hours to finish, since the hourly rate limit is 15K.\n",
    "\n",
    "How much coverage does GeoIP give us?"
   ]
  },
  {
   "cell_type": "markdown",
   "metadata": {},
   "source": [
    "## GeoIP"
   ]
  },
  {
   "cell_type": "code",
   "execution_count": 37,
   "metadata": {},
   "outputs": [
    {
     "ename": "ModuleNotFoundError",
     "evalue": "No module named 'geoip2'",
     "output_type": "error",
     "traceback": [
      "\u001b[0;31m---------------------------------------------------------------------------\u001b[0m",
      "\u001b[0;31mModuleNotFoundError\u001b[0m                       Traceback (most recent call last)",
      "\u001b[0;32m<ipython-input-37-cbf72aad7452>\u001b[0m in \u001b[0;36m<module>\u001b[0;34m()\u001b[0m\n\u001b[0;32m----> 1\u001b[0;31m \u001b[0;32mimport\u001b[0m \u001b[0mgeoip2\u001b[0m\u001b[0;34m\u001b[0m\u001b[0;34m\u001b[0m\u001b[0m\n\u001b[0m",
      "\u001b[0;31mModuleNotFoundError\u001b[0m: No module named 'geoip2'"
     ]
    }
   ],
   "source": [
    "import geoip2"
   ]
  },
  {
   "cell_type": "markdown",
   "metadata": {},
   "source": [
    "Realized geoip isn't free any more. Will probably use freegeoip.app"
   ]
  },
  {
   "cell_type": "markdown",
   "metadata": {},
   "source": [
    "# Reputation\n",
    "\n",
    "I downloaded AlienVault's reputation database at 20191110, 11:01:00 PST (updated hourly)."
   ]
  },
  {
   "cell_type": "code",
   "execution_count": 62,
   "metadata": {},
   "outputs": [],
   "source": [
    "import numpy as np"
   ]
  },
  {
   "cell_type": "code",
   "execution_count": 56,
   "metadata": {},
   "outputs": [],
   "source": [
    "colnames = ['IP', 'Reliability', 'Risk', 'Type', 'Country', 'Locale', 'Coords', 'x']\n",
    "rep = pd.read_csv('../data/reputation_20191110_110100.dat', sep='#', header=None, names=colnames)\n",
    "def get_lat_long(coords):\n",
    "    coords = coords.split(',')\n",
    "    return coords[0], coords[1]\n",
    "rep[\"Latitude\"], rep[\"Longitude\"] = rep[\"Coords\"].str.split(',', 1).str"
   ]
  },
  {
   "cell_type": "code",
   "execution_count": 57,
   "metadata": {},
   "outputs": [
    {
     "data": {
      "text/html": [
       "<div>\n",
       "<style scoped>\n",
       "    .dataframe tbody tr th:only-of-type {\n",
       "        vertical-align: middle;\n",
       "    }\n",
       "\n",
       "    .dataframe tbody tr th {\n",
       "        vertical-align: top;\n",
       "    }\n",
       "\n",
       "    .dataframe thead th {\n",
       "        text-align: right;\n",
       "    }\n",
       "</style>\n",
       "<table border=\"1\" class=\"dataframe\">\n",
       "  <thead>\n",
       "    <tr style=\"text-align: right;\">\n",
       "      <th></th>\n",
       "      <th>IP</th>\n",
       "      <th>Reliability</th>\n",
       "      <th>Risk</th>\n",
       "      <th>Type</th>\n",
       "      <th>Country</th>\n",
       "      <th>Locale</th>\n",
       "      <th>Coords</th>\n",
       "      <th>x</th>\n",
       "      <th>Latitude</th>\n",
       "      <th>Longitude</th>\n",
       "    </tr>\n",
       "  </thead>\n",
       "  <tbody>\n",
       "    <tr>\n",
       "      <th>0</th>\n",
       "      <td>23.94.213.6</td>\n",
       "      <td>4</td>\n",
       "      <td>2</td>\n",
       "      <td>Malicious Host</td>\n",
       "      <td>US</td>\n",
       "      <td>Los Angeles</td>\n",
       "      <td>34.0544013977,-118.244003296</td>\n",
       "      <td>3</td>\n",
       "      <td>34.0544013977</td>\n",
       "      <td>-118.244003296</td>\n",
       "    </tr>\n",
       "    <tr>\n",
       "      <th>1</th>\n",
       "      <td>23.116.185.114</td>\n",
       "      <td>4</td>\n",
       "      <td>2</td>\n",
       "      <td>Malicious Host</td>\n",
       "      <td>US</td>\n",
       "      <td>NaN</td>\n",
       "      <td>37.7509994507,-97.8219985962</td>\n",
       "      <td>3</td>\n",
       "      <td>37.7509994507</td>\n",
       "      <td>-97.8219985962</td>\n",
       "    </tr>\n",
       "    <tr>\n",
       "      <th>2</th>\n",
       "      <td>14.58.252.223</td>\n",
       "      <td>4</td>\n",
       "      <td>2</td>\n",
       "      <td>Malicious Host</td>\n",
       "      <td>KR</td>\n",
       "      <td>NaN</td>\n",
       "      <td>37.5111999512,126.974098206</td>\n",
       "      <td>3</td>\n",
       "      <td>37.5111999512</td>\n",
       "      <td>126.974098206</td>\n",
       "    </tr>\n",
       "    <tr>\n",
       "      <th>3</th>\n",
       "      <td>45.79.106.170</td>\n",
       "      <td>4</td>\n",
       "      <td>2</td>\n",
       "      <td>Malicious Host</td>\n",
       "      <td>US</td>\n",
       "      <td>Fremont</td>\n",
       "      <td>37.5483016968,-121.988601685</td>\n",
       "      <td>3</td>\n",
       "      <td>37.5483016968</td>\n",
       "      <td>-121.988601685</td>\n",
       "    </tr>\n",
       "    <tr>\n",
       "      <th>4</th>\n",
       "      <td>107.152.104.110</td>\n",
       "      <td>4</td>\n",
       "      <td>2</td>\n",
       "      <td>Malicious Host</td>\n",
       "      <td>US</td>\n",
       "      <td>Jersey City</td>\n",
       "      <td>40.73279953,-74.0755004883</td>\n",
       "      <td>3</td>\n",
       "      <td>40.73279953</td>\n",
       "      <td>-74.0755004883</td>\n",
       "    </tr>\n",
       "  </tbody>\n",
       "</table>\n",
       "</div>"
      ],
      "text/plain": [
       "                IP  Reliability  Risk            Type Country       Locale  \\\n",
       "0      23.94.213.6            4     2  Malicious Host      US  Los Angeles   \n",
       "1   23.116.185.114            4     2  Malicious Host      US          NaN   \n",
       "2    14.58.252.223            4     2  Malicious Host      KR          NaN   \n",
       "3    45.79.106.170            4     2  Malicious Host      US      Fremont   \n",
       "4  107.152.104.110            4     2  Malicious Host      US  Jersey City   \n",
       "\n",
       "                         Coords  x       Latitude       Longitude  \n",
       "0  34.0544013977,-118.244003296  3  34.0544013977  -118.244003296  \n",
       "1  37.7509994507,-97.8219985962  3  37.7509994507  -97.8219985962  \n",
       "2   37.5111999512,126.974098206  3  37.5111999512   126.974098206  \n",
       "3  37.5483016968,-121.988601685  3  37.5483016968  -121.988601685  \n",
       "4    40.73279953,-74.0755004883  3    40.73279953  -74.0755004883  "
      ]
     },
     "execution_count": 57,
     "metadata": {},
     "output_type": "execute_result"
    }
   ],
   "source": [
    "rep.head()"
   ]
  },
  {
   "cell_type": "code",
   "execution_count": 70,
   "metadata": {},
   "outputs": [
    {
     "data": {
      "text/plain": [
       "Malicious Host    74892\n",
       "Name: Type, dtype: int64"
      ]
     },
     "execution_count": 70,
     "metadata": {},
     "output_type": "execute_result"
    }
   ],
   "source": [
    "rep['Type'].value_counts()"
   ]
  },
  {
   "cell_type": "code",
   "execution_count": 60,
   "metadata": {},
   "outputs": [
    {
     "data": {
      "text/plain": [
       "0    34.0544013977\n",
       "1    37.7509994507\n",
       "2    37.5111999512\n",
       "3    37.5483016968\n",
       "4      40.73279953\n",
       "Name: Latitude, dtype: object"
      ]
     },
     "execution_count": 60,
     "metadata": {},
     "output_type": "execute_result"
    }
   ],
   "source": [
    "rep[\"Latitude\"].head()"
   ]
  },
  {
   "cell_type": "markdown",
   "metadata": {},
   "source": [
    "How many IPs are in the big df?"
   ]
  },
  {
   "cell_type": "code",
   "execution_count": 61,
   "metadata": {},
   "outputs": [],
   "source": [
    "hp_unq_ips = df['attackerIP'].unique()"
   ]
  },
  {
   "cell_type": "code",
   "execution_count": 64,
   "metadata": {},
   "outputs": [],
   "source": [
    "ip_in_rep = np.isin(hp_unq_ips, rep['IP'])"
   ]
  },
  {
   "cell_type": "code",
   "execution_count": 67,
   "metadata": {},
   "outputs": [],
   "source": [
    "ips_in_rep = hp_unq_ips[ip_in_rep]"
   ]
  },
  {
   "cell_type": "code",
   "execution_count": 69,
   "metadata": {},
   "outputs": [
    {
     "data": {
      "text/plain": [
       "417"
      ]
     },
     "execution_count": 69,
     "metadata": {},
     "output_type": "execute_result"
    }
   ],
   "source": [
    "len(ips_in_rep)"
   ]
  },
  {
   "cell_type": "code",
   "execution_count": 78,
   "metadata": {},
   "outputs": [],
   "source": [
    "honeypot_sample = df.sample(n=10000, random_state=1111)"
   ]
  },
  {
   "cell_type": "code",
   "execution_count": 79,
   "metadata": {},
   "outputs": [
    {
     "data": {
      "text/plain": [
       "(10000, 21)"
      ]
     },
     "execution_count": 79,
     "metadata": {},
     "output_type": "execute_result"
    }
   ],
   "source": [
    "honeypot_sample.shape"
   ]
  },
  {
   "cell_type": "code",
   "execution_count": 80,
   "metadata": {},
   "outputs": [
    {
     "data": {
      "text/plain": [
       "dionaea.connections    5732\n",
       "amun.events            3789\n",
       "snort.alerts            409\n",
       "glastopf.events          70\n",
       "Name: channel, dtype: int64"
      ]
     },
     "execution_count": 80,
     "metadata": {},
     "output_type": "execute_result"
    }
   ],
   "source": [
    "honeypot_sample['channel'].value_counts()"
   ]
  },
  {
   "cell_type": "code",
   "execution_count": 81,
   "metadata": {},
   "outputs": [],
   "source": [
    "honeypot_sample.to_csv('../data/honeypot_10ksamp.csv', index=False)"
   ]
  },
  {
   "cell_type": "code",
   "execution_count": 82,
   "metadata": {},
   "outputs": [],
   "source": [
    "honeypot_samp_attackerips = honeypot_sample['attackerIP']"
   ]
  },
  {
   "cell_type": "code",
   "execution_count": 83,
   "metadata": {},
   "outputs": [],
   "source": [
    "honeypot_samp_attackerips.to_csv('../data/honeypot_10ksamp_attackerips.csv', index=False)"
   ]
  },
  {
   "cell_type": "code",
   "execution_count": 92,
   "metadata": {},
   "outputs": [],
   "source": [
    "honeypot_all_attackerips = df['attackerIP']"
   ]
  },
  {
   "cell_type": "code",
   "execution_count": 93,
   "metadata": {},
   "outputs": [
    {
     "data": {
      "text/plain": [
       "(185936,)"
      ]
     },
     "execution_count": 93,
     "metadata": {},
     "output_type": "execute_result"
    }
   ],
   "source": [
    "honeypot_all_attackerips = pd.Series(honeypot_all_attackerips.unique())\n",
    "honeypot_all_attackerips.shape"
   ]
  },
  {
   "cell_type": "code",
   "execution_count": 94,
   "metadata": {},
   "outputs": [],
   "source": [
    "honeypot_all_attackerips.to_csv('../data/honeypot_all_attackerips.csv', index=False)"
   ]
  },
  {
   "cell_type": "markdown",
   "metadata": {},
   "source": [
    "## Formulating a Plan\n",
    "\n",
    "Here's what I plan to do.\n",
    "\n",
    "Use 3 main data sets:\n",
    "* Honeypot data. \n",
    "* Reputation Data\n",
    "* freegeoip data, downloaded 15,000 records at a time.\n",
    "\n",
    "Then, to test, we need\n",
    "* 10,000k-row sample of honeypot data. \n",
    "* Beginnings of a freegeoip data file \n",
    "\n",
    "Going to put everything in a Redshift database. Makes the most sense for now given the data size. \n",
    "\n",
    "Want the following code:\n",
    "* Class to set up Redshift database\n",
    "* Create tables code\n",
    "    * Staging tables: honeypot, reputation, freegeoip. \n",
    "    * Dimension tables: 1 for each of the honeypots, reputation \"key\" information, geoip \"key\" information. Time table?  \n",
    "    * Fact table: Honeypot \"touches\", with IP, geolocation info, and a few other TBD columns. \n",
    "   \n",
    "* Process to clean honeypot data from json, send to redshift\n",
    "* Class to download new IPs from freegeoip (sleep 5 mins (300 seconds) between 403s)."
   ]
  },
  {
   "cell_type": "code",
   "execution_count": 77,
   "metadata": {},
   "outputs": [
    {
     "name": "stderr",
     "output_type": "stream",
     "text": [
      "DEBUG:root:test\n"
     ]
    }
   ],
   "source": [
    "import logging\n",
    "logger = logging.getLogger()\n",
    "logger.setLevel(logging.DEBUG)\n",
    "logging.debug(\"test\")"
   ]
  },
  {
   "cell_type": "code",
   "execution_count": 76,
   "metadata": {},
   "outputs": [
    {
     "name": "stdout",
     "output_type": "stream",
     "text": [
      "None\n"
     ]
    }
   ],
   "source": []
  },
  {
   "cell_type": "code",
   "execution_count": null,
   "metadata": {},
   "outputs": [],
   "source": []
  }
 ],
 "metadata": {
  "kernelspec": {
   "display_name": "Python 3",
   "language": "python",
   "name": "python3"
  },
  "language_info": {
   "codemirror_mode": {
    "name": "ipython",
    "version": 3
   },
   "file_extension": ".py",
   "mimetype": "text/x-python",
   "name": "python",
   "nbconvert_exporter": "python",
   "pygments_lexer": "ipython3",
   "version": "3.7.4"
  }
 },
 "nbformat": 4,
 "nbformat_minor": 4
}
